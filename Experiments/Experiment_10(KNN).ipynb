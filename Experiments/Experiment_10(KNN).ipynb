{
  "cells": [
    {
      "cell_type": "code",
      "execution_count": 1,
      "id": "a9ef6a59",
      "metadata": {
        "colab": {
          "base_uri": "https://localhost:8080/",
          "height": 1000
        },
        "id": "a9ef6a59",
        "outputId": "052f1d02-14dc-4207-a1be-e90eeebfa167"
      },
      "outputs": [
        {
          "output_type": "stream",
          "name": "stdout",
          "text": [
            "k =  1 --> Accuracy = 1.0000\n",
            "k =  2 --> Accuracy = 1.0000\n",
            "k =  3 --> Accuracy = 1.0000\n",
            "k =  4 --> Accuracy = 1.0000\n",
            "k =  5 --> Accuracy = 1.0000\n",
            "k =  6 --> Accuracy = 1.0000\n",
            "k =  7 --> Accuracy = 1.0000\n",
            "k =  8 --> Accuracy = 1.0000\n",
            "k =  9 --> Accuracy = 1.0000\n",
            "k = 10 --> Accuracy = 1.0000\n",
            "k = 11 --> Accuracy = 1.0000\n",
            "k = 12 --> Accuracy = 1.0000\n",
            "k = 13 --> Accuracy = 1.0000\n",
            "k = 14 --> Accuracy = 1.0000\n",
            "k = 15 --> Accuracy = 1.0000\n",
            "k = 16 --> Accuracy = 1.0000\n",
            "k = 17 --> Accuracy = 1.0000\n",
            "k = 18 --> Accuracy = 1.0000\n",
            "k = 19 --> Accuracy = 1.0000\n",
            "k = 20 --> Accuracy = 1.0000\n",
            "\n",
            " Best k is 1 with accuracy = 1.0000\n"
          ]
        },
        {
          "output_type": "display_data",
          "data": {
            "text/plain": [
              "<Figure size 1000x500 with 1 Axes>"
            ],
            "image/png": "[encoded data removed]"
          },
          "metadata": {}
        },
        {
          "output_type": "stream",
          "name": "stdout",
          "text": [
            "\n",
            "Final accuracy with best k (1) = 1.0000\n",
            "\n",
            "Results on test set:\n",
            "\n",
            " Correct:   Predicted = versicolor | Actual = versicolor\n",
            " Correct:   Predicted = setosa     | Actual = setosa\n",
            " Correct:   Predicted = virginica  | Actual = virginica\n",
            " Correct:   Predicted = versicolor | Actual = versicolor\n",
            " Correct:   Predicted = versicolor | Actual = versicolor\n",
            " Correct:   Predicted = setosa     | Actual = setosa\n",
            " Correct:   Predicted = versicolor | Actual = versicolor\n",
            " Correct:   Predicted = virginica  | Actual = virginica\n",
            " Correct:   Predicted = versicolor | Actual = versicolor\n",
            " Correct:   Predicted = versicolor | Actual = versicolor\n",
            " Correct:   Predicted = virginica  | Actual = virginica\n",
            " Correct:   Predicted = setosa     | Actual = setosa\n",
            " Correct:   Predicted = setosa     | Actual = setosa\n",
            " Correct:   Predicted = setosa     | Actual = setosa\n",
            " Correct:   Predicted = setosa     | Actual = setosa\n",
            " Correct:   Predicted = versicolor | Actual = versicolor\n",
            " Correct:   Predicted = virginica  | Actual = virginica\n",
            " Correct:   Predicted = versicolor | Actual = versicolor\n",
            " Correct:   Predicted = versicolor | Actual = versicolor\n",
            " Correct:   Predicted = virginica  | Actual = virginica\n",
            " Correct:   Predicted = setosa     | Actual = setosa\n",
            " Correct:   Predicted = virginica  | Actual = virginica\n",
            " Correct:   Predicted = setosa     | Actual = setosa\n",
            " Correct:   Predicted = virginica  | Actual = virginica\n",
            " Correct:   Predicted = virginica  | Actual = virginica\n",
            " Correct:   Predicted = virginica  | Actual = virginica\n",
            " Correct:   Predicted = virginica  | Actual = virginica\n",
            " Correct:   Predicted = virginica  | Actual = virginica\n",
            " Correct:   Predicted = setosa     | Actual = setosa\n",
            " Correct:   Predicted = setosa     | Actual = setosa\n",
            " Correct:   Predicted = setosa     | Actual = setosa\n",
            " Correct:   Predicted = setosa     | Actual = setosa\n",
            " Correct:   Predicted = versicolor | Actual = versicolor\n",
            " Correct:   Predicted = setosa     | Actual = setosa\n",
            " Correct:   Predicted = setosa     | Actual = setosa\n",
            " Correct:   Predicted = virginica  | Actual = virginica\n",
            " Correct:   Predicted = versicolor | Actual = versicolor\n",
            " Correct:   Predicted = setosa     | Actual = setosa\n",
            " Correct:   Predicted = setosa     | Actual = setosa\n",
            " Correct:   Predicted = setosa     | Actual = setosa\n",
            " Correct:   Predicted = virginica  | Actual = virginica\n",
            " Correct:   Predicted = versicolor | Actual = versicolor\n",
            " Correct:   Predicted = versicolor | Actual = versicolor\n",
            " Correct:   Predicted = setosa     | Actual = setosa\n",
            " Correct:   Predicted = setosa     | Actual = setosa\n"
          ]
        }
      ],
      "source": [
        "from sklearn.datasets import load_iris\n",
        "from sklearn.model_selection import train_test_split\n",
        "from sklearn.neighbors import KNeighborsClassifier\n",
        "from sklearn.metrics import accuracy_score\n",
        "import matplotlib.pyplot as plt\n",
        "\n",
        "# Load the Iris dataset\n",
        "iris = load_iris()\n",
        "X = iris.data\n",
        "y = iris.target\n",
        "target_names = iris.target_names\n",
        "\n",
        "# Split the dataset\n",
        "X_train, X_test, y_train, y_test = train_test_split(X, y, test_size=0.3, random_state=42)\n",
        "\n",
        "def find_best_k(X_train, X_test, y_train, y_test, max_k=20):\n",
        "    \"\"\"Tries k from 1 to max_k and returns the best k based on test accuracy\"\"\"\n",
        "    accuracies = []\n",
        "    for k in range(1, max_k + 1):\n",
        "        knn = KNeighborsClassifier(n_neighbors=k)\n",
        "        knn.fit(X_train, y_train)\n",
        "        y_pred = knn.predict(X_test)\n",
        "        acc = accuracy_score(y_test, y_pred)\n",
        "        accuracies.append(acc)\n",
        "        print(f\"k = {k:2d} --> Accuracy = {acc:.4f}\")\n",
        "\n",
        "    best_k = accuracies.index(max(accuracies)) + 1\n",
        "    print(f\"\\n Best k is {best_k} with accuracy = {max(accuracies):.4f}\")\n",
        "\n",
        "    # Optional: Plot accuracy vs k\n",
        "    plt.figure(figsize=(10, 5))\n",
        "    plt.plot(range(1, max_k + 1), accuracies, marker='o', color='blue')\n",
        "    plt.title('k-NN Accuracy vs k')\n",
        "    plt.xlabel('Value of k')\n",
        "    plt.ylabel('Accuracy')\n",
        "    plt.xticks(range(1, max_k + 1))\n",
        "    plt.grid(True)\n",
        "    plt.show()\n",
        "\n",
        "    return best_k\n",
        "\n",
        "# Find best k\n",
        "best_k = find_best_k(X_train, X_test, y_train, y_test)\n",
        "\n",
        "# Train classifier with best k\n",
        "knn = KNeighborsClassifier(n_neighbors=best_k)\n",
        "knn.fit(X_train, y_train)\n",
        "y_pred = knn.predict(X_test)\n",
        "\n",
        "# Show accuracy\n",
        "accuracy = accuracy_score(y_test, y_pred)\n",
        "print(f\"\\nFinal accuracy with best k ({best_k}) = {accuracy:.4f}\\n\")\n",
        "\n",
        "# Print predictions\n",
        "print(\"Results on test set:\\n\")\n",
        "for i in range(len(y_test)):\n",
        "    actual = target_names[y_test[i]]\n",
        "    predicted = target_names[y_pred[i]]\n",
        "    if y_test[i] == y_pred[i]:\n",
        "        print(f\" Correct:   Predicted = {predicted:10s} | Actual = {actual}\")\n",
        "    else:\n",
        "        print(f\" Incorrect: Predicted = {predicted:10s} | Actual = {actual}\")\n"
      ]
    },
    {
      "cell_type": "code",
      "execution_count": null,
      "id": "f18826fd",
      "metadata": {
        "id": "f18826fd"
      },
      "outputs": [],
      "source": []
    }
  ],
  "metadata": {
    "kernelspec": {
      "display_name": "Python 3 (ipykernel)",
      "language": "python",
      "name": "python3"
    },
    "language_info": {
      "codemirror_mode": {
        "name": "ipython",
        "version": 3
      },
      "file_extension": ".py",
      "mimetype": "text/x-python",
      "name": "python",
      "nbconvert_exporter": "python",
      "pygments_lexer": "ipython3",
      "version": "3.9.13"
    },
    "colab": {
      "provenance": []
    }
  },
  "nbformat": 4,
  "nbformat_minor": 5
}